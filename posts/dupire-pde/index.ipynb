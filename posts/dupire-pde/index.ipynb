{
  "cells": [
    {
      "cell_type": "raw",
      "metadata": {},
      "source": [
        "---\n",
        "title: A short note on the Dupire PDE\n",
        "author: Quasar\n",
        "date: '2024-12-01'\n",
        "categories:\n",
        "  - Stochastic Calculus\n",
        "image: image.jpg\n",
        "toc: true\n",
        "toc-depth: 3\n",
        "---"
      ],
      "id": "fb6c1531"
    },
    {
      "cell_type": "markdown",
      "metadata": {},
      "source": [
        "# Introduction\n",
        "\n",
        "For each strike $K$ and maturity $T$, we need to solve backward parabolic Black-Scholes PDE in the variables $(S,t)$, to find the option prices. It is possible to find the same option price by solving a dual problem, namely a forward equation in the variables $(K,T)$, given the present spot value and time, known as the *dual Black-Scholes equation* or **Dupire's PDE**."
      ],
      "id": "e85c194d"
    }
  ],
  "metadata": {
    "kernelspec": {
      "display_name": "Python 3",
      "language": "python",
      "name": "python3"
    }
  },
  "nbformat": 4,
  "nbformat_minor": 5
}